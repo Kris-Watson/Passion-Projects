{
 "cells": [
  {
   "cell_type": "code",
   "execution_count": 7,
   "metadata": {},
   "outputs": [],
   "source": [
    "import numpy as np\n",
    "\n",
    "class Graph():\n",
    "    \"\"\" Computational graph class. \n",
    "    Initilizes a global variable _g that describes the graph.\n",
    "    Each graph consists of a set of\n",
    "        1. operators\n",
    "        2. variables\n",
    "        3. constants\n",
    "        4. placeholders\n",
    "    \"\"\"\n",
    "    def __init__(self):\n",
    "        self.operators = set()\n",
    "        self.constants = set()\n",
    "        self.variables = set()\n",
    "        self.placeholders = set()\n",
    "        global _g\n",
    "        _g = self\n",
    "        \n",
    "    def reset_counts(self, root):\n",
    "        if hasattr(root, 'count'):\n",
    "            root.count = 0\n",
    "        else:\n",
    "            for child in root.__subclasses__():\n",
    "                self.reset_counts(child)\n",
    "\n",
    "    def reset_session(self):\n",
    "        try:\n",
    "            del _g\n",
    "        except:\n",
    "            pass\n",
    "        self.reset_counts(Node)\n",
    "        \n",
    "    def __enter__(self):\n",
    "        return self\n",
    "    \n",
    "    def __exit__(self, exc_type, exc_value, traceback):\n",
    "        self.reset_session()"
   ]
  },
  {
   "cell_type": "code",
   "execution_count": 8,
   "metadata": {},
   "outputs": [],
   "source": [
    "g = Graph()"
   ]
  }
 ],
 "metadata": {
  "kernelspec": {
   "display_name": "base",
   "language": "python",
   "name": "python3"
  },
  "language_info": {
   "codemirror_mode": {
    "name": "ipython",
    "version": 3
   },
   "file_extension": ".py",
   "mimetype": "text/x-python",
   "name": "python",
   "nbconvert_exporter": "python",
   "pygments_lexer": "ipython3",
   "version": "3.9.13"
  },
  "orig_nbformat": 4
 },
 "nbformat": 4,
 "nbformat_minor": 2
}
